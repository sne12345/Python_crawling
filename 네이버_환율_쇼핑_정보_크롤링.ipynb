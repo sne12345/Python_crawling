{
  "nbformat": 4,
  "nbformat_minor": 0,
  "metadata": {
    "colab": {
      "name": "네이버 환율_쇼핑_정보_크롤링.ipynb",
      "provenance": [],
      "collapsed_sections": [],
      "include_colab_link": true
    },
    "kernelspec": {
      "name": "python3",
      "display_name": "Python 3"
    }
  },
  "cells": [
    {
      "cell_type": "markdown",
      "metadata": {
        "id": "view-in-github",
        "colab_type": "text"
      },
      "source": [
        "<a href=\"https://colab.research.google.com/github/sne12345/Python_crawling/blob/master/%EB%84%A4%EC%9D%B4%EB%B2%84_%ED%99%98%EC%9C%A8_%EC%87%BC%ED%95%91_%EC%A0%95%EB%B3%B4_%ED%81%AC%EB%A1%A4%EB%A7%81.ipynb\" target=\"_parent\"><img src=\"https://colab.research.google.com/assets/colab-badge.svg\" alt=\"Open In Colab\"/></a>"
      ]
    },
    {
      "cell_type": "code",
      "metadata": {
        "id": "2RGpxXiR5ZU7",
        "colab": {
          "base_uri": "https://localhost:8080/"
        },
        "outputId": "e21b20b8-5d97-4575-8f54-25a031eb4fcd"
      },
      "source": [
        "# 네이버 환율에서 달러 환율 정보 가져오기\n",
        "\n",
        "# 크롤링할 때 복붙하면됨\n",
        "from bs4 import BeautifulSoup  # 파이썬에서 HTML코드를 가공해줌 # 모듈 -> 도구가방\n",
        "import requests  # 서버랑 클라이언트로서 통신하게 해줌\n",
        "\n",
        "url = 'https://finance.naver.com/marketindex/'\n",
        "result = requests.get(url)\n",
        "tem = result.text \n",
        "soup = BeautifulSoup(tem, 'html.parser')\n",
        "#find_all : 여러개를 찾음 / find : 맨위에거 한개만 찾음\n",
        "d = soup.find_all('span',{'class':'value'}) # 결과물은 리스트형식으로 받음 !!\n",
        "value = d[0].text   # .text -> <> 밖의 문자를 출력 \n",
        "\n",
        "value = value.replace(',','')\n",
        "print(value, '원')\n",
        "\n",
        "\n"
      ],
      "execution_count": 5,
      "outputs": [
        {
          "output_type": "stream",
          "text": [
            "1094.60 원\n"
          ],
          "name": "stdout"
        }
      ]
    },
    {
      "cell_type": "code",
      "metadata": {
        "id": "JH2Au2U5DP6N"
      },
      "source": [
        "# 네이버 쇼핑 Best 100\n",
        "\n",
        "from bs4 import BeautifulSoup  # 파이썬에서 HTML코드를 가공해줌 # 모듈 -> 도구가방\n",
        "import requests  # 서버랑 클라이언트로서 통신하게 해줌\n",
        "\n",
        "url = 'https://search.shopping.naver.com/best100v2/detail.nhn?catId=50000000'\n",
        "result = requests.get(url)\n",
        "tem = result.text \n",
        "soup = BeautifulSoup(tem, 'html.parser')\n",
        "\n",
        "a = soup.find_all('p',{'class':'cont'})\n",
        "soup"
      ],
      "execution_count": null,
      "outputs": []
    },
    {
      "cell_type": "code",
      "metadata": {
        "id": "bRy20Ej7E5_Z",
        "colab": {
          "base_uri": "https://localhost:8080/",
          "height": 1000
        },
        "outputId": "d45a60b9-1d76-4011-c26b-a973aef787e5"
      },
      "source": [
        "\n",
        "for i in a:\n",
        "  print(i.find('a')['title'])"
      ],
      "execution_count": null,
      "outputs": [
        {
          "output_type": "stream",
          "text": [
            "트리플에이 무지티 반팔티 무지 반팔티셔츠 1301\n",
            "지오다노 여 크루넥 경량 다운 자켓 379905\n",
            "지오다노 여 패딩 숏 푸파 379921\n",
            "올젠 뉴테라 액티브 롱다운 점퍼 ZOZ4FP1305\n",
            "나이키 스포츠웨어 V DAY 후디 CU4027-010\n",
            "앤드지 더블맥스 구스다운 롱패딩점퍼 BE BZZ4FP1181\n",
            "타미힐피거 남녀공용 크루넥 맨투맨 SW\n",
            "지오다노 목넥 푸파 다운 079920\n",
            "폴로랄프로렌 하프집업 니트 맨투맨\n",
            "엣지 SPRING20 판초 후드 니트 3종\n",
            "앤드지 andz BY 19 F W 실버폭스퍼 럭스 마스터 구스다운 BZZ4FP1101\n",
            "NNF 벨벳 트레이닝 세트 3종\n",
            "나이키 스포츠웨어 에어 우븐 재킷 CJ4835-100\n",
            "남자 가을 겨울 스판 편한 밴딩 슬랙스 면바지 7컬러\n",
            "조이너스 코쿤핏 하이넥 숏패딩\n",
            "내셔널지오그래픽 카이만 남녀공용 롱다운 스몰로고 CARBON N191UDW290\n",
            "나이키 NSW 테크플리스 조거 팬츠 805163-010\n",
            "조르쥬레쉬 레쉬 워셔블 롱 니트원피스 3종 후드 라운드 V넥\n",
            "내셔널지오그래픽 오터 플리스 뽀글이 풀 집업 N194UFT950 IVORY\n",
            "아디다스 NEW 심리스드로즈 9종 패키지\n",
            "아디다스 마샬아츠 트레이닝복 세트 남여공용 TR70 HOODIE\n",
            "타미힐피거 남녀공용 기모 자수 맨투맨\n",
            "오플 밀라 울모달 블렌디드 터틀넥 티블라우스 4종\n",
            "6만원인하 엣지 헝가리퀼팅 롱구스코트 WINTER19\n",
            "모조에스핀 스티치 카라 핸드메이드 코트 J194XSG003\n",
            "써스데이아일랜드 플라워 쉬폰 롱원피스 T196MOP140W\n",
            "나이키 빅스우시 윈드브레이커 바람막이 검흰 AR3132-010\n",
            "릴리전 부퍼 숏패딩 점퍼\n",
            "나이키 국내매장판 테크팩 테크 플리스 트레이닝 풀집 후디 조거 팬츠\n",
            "온앤온 19FW 드 포버튼 자켓 NW9WJ069\n",
            "스튜디오톰보이 트윌 오버사이즈 트렌치 코트 9109311998\n",
            "씨씨콜렉트 캐시미어블렌딩 싱글코트 C194MSG520\n",
            "앤클라인 자켓형 코튼 셔츠블라우스 3종\n",
            "지프 폴라베어 롱기장 야상 다운 점퍼 GJ4JPU405\n",
            "나이키 스우시 클럽 후리스 후드집업 조거팬츠 상하 세트\n",
            "enc 폭스 퍼 구스 다운 패딩 ENJD94T71N\n",
            "앤클라인 리즈 뉴욕 컬렉션 4종 FAUX퍼 스트랩\n",
            "메종르자비 프렌치 헤리티지 컬렉션\n",
            "아디다스 오리지널 우먼스 3S 레깅스 타이즈 CE2441\n",
            "지스튜디오 19FW 시그니처 구스다운\n",
            "오조이 자체제작 울 30 플리츠 모직 롱 밴딩 스커트\n",
            "스튜디오톰보이 맥시 트렌치코트 9109311721\n",
            "폴햄 남여공용 알래스카 롱패딩 다운 점퍼 PHY4JP3060\n",
            "세인트제임스 Marine Jacket 001 ASJF2010265-001\n",
            "온앤온 와이드카라 트위드 숏자켓 NW0SJ245\n",
            "플라스틱아일랜드 원버튼 테일러드 자켓 PK4WJ061\n",
            "예쎄 트렌치 수트 FULL 컬렉션 총4pcs\n",
            "지오다노 크루넥 경량 패딩조끼 379903\n",
            "아디다스 마샬아츠 트레이닝복 팬츠 PN10030A\n",
            "나이스크랍 모직 혼방 벨티드 핸드메이드 코트 A194MWCA40\n",
            "달콤한레드 무봉제 노라인 심리스 팬티\n",
            "히든 버튼 핸드메이드 코트\n",
            "밀라노스토리 캐시미어 100 니트 풀오버\n",
            "폴로랄프로렌 남성 반집업 아노락 맨투맨\n",
            "스파오 펭수 파자마  SPPPA23C12\n",
            "빅사이즈 봄신상 완전편한 사계절 면스판 9부 밴딩슬랙스 4컬러\n",
            "쉬즈미스 밍크 카라 구스다운 점퍼 SSDJPJ41050\n",
            "비비안 드로르 햄라인 여성팬티\n",
            "폴로랄프로렌 여성 크루넥 코튼 케이블 니트\n",
            "온앤온 테일러드 싱글 체크 자켓 NW9WJ071\n",
            "보브 7150118501 퀼팅 숏 패딩점퍼\n",
            "온앤온 포근한 양모 핸드메이드 코트 NW9XH848\n",
            "라우렐 퓨어 메리노울100 벨티드 코트\n",
            "겨울 봄 결혼식 하객패션 빅사이즈 카라 자켓 정장 플레어 롱 원피스\n",
            "부드러운 면팬티 M 4XL까지 순면 여성속옷\n",
            "구김방지 스판 와이드카라 남자 와이셔츠\n",
            "순면 기모 체크 커플 파자마 잠옷 홈웨어\n",
            "마인드브릿지 울 캐시 스탠다드 싱글코트 MTCA7103\n",
            "여성면팬티 순면 모달팬티 노라인 햄라인\n",
            "지컷 트위드 배색 다운 7229417608\n",
            "리스트 핸드메이드 벨티드 울 캐시미어 코트 TWHCTJ80060\n",
            "빅사이즈 남자팬티 드로즈속옷 7종\n",
            "브룬스바자 울 블렌디드 하프코트\n",
            "아디다스 오리지널스 Mens 헤비 쟈켓 GC8695\n",
            "나이키 스우시 우븐 후디 재킷 CJ4889-010\n",
            "나이키 트레이닝복 백 플리스 기모 조거팬츠\n",
            "나이키 남성용 NSW 클럽 BB 풀오버 후드티 BV2654 010\n",
            "폴로랄프로렌 남성 클래식핏 옥스포드 코튼 긴팔 셔츠\n",
            "블리스텝 파자마 세트 겨울 여름 수면 반 바지 실내복\n",
            "아디다스 우먼스 레깅스 타이츠 9종\n",
            "특양면 맨투맨\n",
            "보브 7119416309 스트라이프 디테일 후드 코트\n",
            "라인 더블 체크 자켓 NGJKJL9900\n",
            "웰론 커플 오버핏 남자 숏패딩\n",
            "남자 카고 조거 밴딩 바지\n",
            "앤드지 BY지오지아 맥스다운 롱패딩점퍼 BZZ4FP1171\n",
            "모조에스핀 롱기본재킷 J193XSF015\n",
            "나이키 테크 플리스 조거 팬츠 805163-063\n",
            "스튜디오톰보이 테일러드 카라 핸드메이드 코트 9109411995\n",
            "지오다노 남 MW 테이퍼드 슬랙스 01 01119911\n",
            "루즈핏 울 브이넥 니트\n",
            "올리브데올리브 아웃포켓 오리털 숏 경량 점퍼 YP9WH800\n",
            "뉴발란스 연아 코쿤핏 구스 롱다운  NBNP84W022\n",
            "루시앙 울 100 폭스퍼카라 핸드메이드 코트\n",
            "16컬러 남자 링클프리 세미오버핏 와이셔츠 스판 정장셔츠 남방 빅사이즈까지\n",
            "파타고니아 남녀공용 후드티\n",
            "GGPX 아웃포켓핸드메이드코트 GJDACT990F\n",
            "온앤온 울100 클래식 체크 자켓 NW9WJ700\n",
            "쉬즈미스 단추포인트 캐시미어 롱코트 SWHHCI41040\n",
            "나이키 테크 플리스 조거팬츠 805162-010\n"
          ],
          "name": "stdout"
        }
      ]
    }
  ]
}